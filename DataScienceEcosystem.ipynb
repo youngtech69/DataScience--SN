{
 "cells": [
  {
   "cell_type": "markdown",
   "id": "41955e3f-bcd5-4cbc-af94-70b8f1f7fe08",
   "metadata": {},
   "source": [
    "# Data Science Tools and Ecosystem"
   ]
  },
  {
   "cell_type": "markdown",
   "id": "0d4036c5-a6b2-44a8-84ca-5a35f19b1265",
   "metadata": {},
   "source": [
    "In this notebook, Data Science Tools and Ecosystems are summarized."
   ]
  },
  {
   "cell_type": "markdown",
   "id": "4feae323-2dfa-4b1f-9e5f-2f54a591d92c",
   "metadata": {},
   "source": [
    "<b>Objectives:</b>\n",
    "* Python\n",
    "* R\n",
    "* Scala\n",
    "* Julia"
   ]
  },
  {
   "cell_type": "markdown",
   "id": "c2baa066-36b2-42b7-a8e6-c20494a14bb9",
   "metadata": {},
   "source": [
    "Some of the popular languages that Data Scientists user are:\n",
    "1. Python\n",
    "2. R\n",
    "3. SQL"
   ]
  },
  {
   "cell_type": "markdown",
   "id": "92870f50-dde8-4b2d-b063-d841f0f1d3fa",
   "metadata": {},
   "source": [
    "Some of the commonly used libraries used  y Data Scientists include:\n",
    "1. Numpy\n",
    "2. Pandas\n",
    "3. Matplotlib"
   ]
  },
  {
   "cell_type": "markdown",
   "id": "6b1a4dab-0815-45a5-b4b6-2a9b439943bc",
   "metadata": {},
   "source": [
    "|Data Science Tools|\n",
    "|----|\n",
    "|VS Code|\n",
    "|Jupyter Notebook|\n",
    "|RStudio|"
   ]
  },
  {
   "cell_type": "markdown",
   "id": "7eceb68f-849c-4f48-be9e-54187d7916f1",
   "metadata": {},
   "source": [
    "### Below are a few examples of evaluating arithmetic expressions in Python"
   ]
  },
  {
   "cell_type": "markdown",
   "id": "18a91fe0-ae32-47dc-b799-8ebe09fce1d0",
   "metadata": {},
   "source": [
    "This a simple arithmetic expression to multiply then add integers"
   ]
  },
  {
   "cell_type": "code",
   "execution_count": 1,
   "id": "9b431c60-139f-4255-819b-d81580b2d548",
   "metadata": {},
   "outputs": [
    {
     "data": {
      "text/plain": [
       "17"
      ]
     },
     "execution_count": 1,
     "metadata": {},
     "output_type": "execute_result"
    }
   ],
   "source": [
    "(3*4)+5"
   ]
  },
  {
   "cell_type": "markdown",
   "id": "f671ccc3-e33d-4e5e-b1ac-93740510e70f",
   "metadata": {},
   "source": [
    "This will convert 200 minutes to hours by diving by 60"
   ]
  },
  {
   "cell_type": "code",
   "execution_count": 2,
   "id": "b91da7cb-3c88-4dee-bc9a-b6bebbf347fe",
   "metadata": {},
   "outputs": [
    {
     "data": {
      "text/plain": [
       "3.3333333333333335"
      ]
     },
     "execution_count": 2,
     "metadata": {},
     "output_type": "execute_result"
    }
   ],
   "source": [
    "200/60"
   ]
  },
  {
   "cell_type": "markdown",
   "id": "d7ba401a-2eaf-4a2f-83a3-221e56b1bbfe",
   "metadata": {},
   "source": [
    "##Author <br>\n",
    "JB Young"
   ]
  },
  {
   "cell_type": "code",
   "execution_count": null,
   "id": "2f37f20b-c90c-46bf-8b1b-e53d6203062d",
   "metadata": {},
   "outputs": [],
   "source": []
  }
 ],
 "metadata": {
  "kernelspec": {
   "display_name": "anaconda-2024.02-py310",
   "language": "python",
   "name": "conda-env-anaconda-2024.02-py310-py"
  },
  "language_info": {
   "codemirror_mode": {
    "name": "ipython",
    "version": 3
   },
   "file_extension": ".py",
   "mimetype": "text/x-python",
   "name": "python",
   "nbconvert_exporter": "python",
   "pygments_lexer": "ipython3",
   "version": "3.10.14"
  }
 },
 "nbformat": 4,
 "nbformat_minor": 5
}
